{
  "nbformat": 4,
  "nbformat_minor": 0,
  "metadata": {
    "colab": {
      "name": "Online Book Recommendation System-Evaluation.ipynb",
      "provenance": [],
      "collapsed_sections": []
    },
    "kernelspec": {
      "display_name": "Python 3",
      "language": "python",
      "name": "python3"
    },
    "language_info": {
      "codemirror_mode": {
        "name": "ipython",
        "version": 3
      },
      "file_extension": ".py",
      "mimetype": "text/x-python",
      "name": "python",
      "nbconvert_exporter": "python",
      "pygments_lexer": "ipython3",
      "version": "3.8.3"
    }
  },
  "cells": [
    {
      "cell_type": "code",
      "metadata": {
        "colab": {
          "base_uri": "https://localhost:8080/"
        },
        "id": "M2kO7ib5nuhf",
        "outputId": "027ab01e-d91d-4c67-cec9-2de23d6fa4ab"
      },
      "source": [
        "#Importing the relevant packages\n",
        "import pandas as pd\n",
        "import numpy as np\n",
        "\n",
        "import warnings\n",
        "warnings.filterwarnings('ignore')\n",
        "\n",
        "from google.colab import drive\n",
        "drive.mount('/content/gdrive')"
      ],
      "execution_count": 1,
      "outputs": [
        {
          "output_type": "stream",
          "text": [
            "Drive already mounted at /content/gdrive; to attempt to forcibly remount, call drive.mount(\"/content/gdrive\", force_remount=True).\n"
          ],
          "name": "stdout"
        }
      ]
    },
    {
      "cell_type": "code",
      "metadata": {
        "id": "l9mLcOe-nuhn"
      },
      "source": [
        "#Loading the relevant Datasets\n",
        "books = pd.read_csv('/content/gdrive/MyDrive/books.csv', encoding='utf-8-sig')\n",
        "ratings = pd.read_csv('/content/gdrive/MyDrive/ratings.csv', encoding='utf-8-sig')\n",
        "to_read = pd.read_csv('/content/gdrive/MyDrive/to_read.csv', encoding='utf-8-sig')"
      ],
      "execution_count": 2,
      "outputs": []
    },
    {
      "cell_type": "markdown",
      "metadata": {
        "id": "0xUHqjmrnuho"
      },
      "source": [
        "## Data Preprocessing"
      ]
    },
    {
      "cell_type": "markdown",
      "metadata": {
        "id": "MB0rntbjnuhp"
      },
      "source": [
        "### Preprocessing books dataframe"
      ]
    },
    {
      "cell_type": "code",
      "metadata": {
        "colab": {
          "base_uri": "https://localhost:8080/"
        },
        "id": "TTBCnCF4nuhp",
        "outputId": "733de49b-46bd-4f59-d92c-c5e3fdcd2732"
      },
      "source": [
        "books.shape"
      ],
      "execution_count": 3,
      "outputs": [
        {
          "output_type": "execute_result",
          "data": {
            "text/plain": [
              "(10000, 23)"
            ]
          },
          "metadata": {
            "tags": []
          },
          "execution_count": 3
        }
      ]
    },
    {
      "cell_type": "code",
      "metadata": {
        "colab": {
          "base_uri": "https://localhost:8080/",
          "height": 416
        },
        "id": "W42vrdienuhq",
        "outputId": "8a538627-23ab-4376-eb86-e20395e7d0ff"
      },
      "source": [
        "books.head()"
      ],
      "execution_count": 4,
      "outputs": [
        {
          "output_type": "execute_result",
          "data": {
            "text/html": [
              "<div>\n",
              "<style scoped>\n",
              "    .dataframe tbody tr th:only-of-type {\n",
              "        vertical-align: middle;\n",
              "    }\n",
              "\n",
              "    .dataframe tbody tr th {\n",
              "        vertical-align: top;\n",
              "    }\n",
              "\n",
              "    .dataframe thead th {\n",
              "        text-align: right;\n",
              "    }\n",
              "</style>\n",
              "<table border=\"1\" class=\"dataframe\">\n",
              "  <thead>\n",
              "    <tr style=\"text-align: right;\">\n",
              "      <th></th>\n",
              "      <th>id</th>\n",
              "      <th>book_id</th>\n",
              "      <th>best_book_id</th>\n",
              "      <th>work_id</th>\n",
              "      <th>books_count</th>\n",
              "      <th>isbn</th>\n",
              "      <th>isbn13</th>\n",
              "      <th>authors</th>\n",
              "      <th>original_publication_year</th>\n",
              "      <th>original_title</th>\n",
              "      <th>title</th>\n",
              "      <th>language_code</th>\n",
              "      <th>average_rating</th>\n",
              "      <th>ratings_count</th>\n",
              "      <th>work_ratings_count</th>\n",
              "      <th>work_text_reviews_count</th>\n",
              "      <th>ratings_1</th>\n",
              "      <th>ratings_2</th>\n",
              "      <th>ratings_3</th>\n",
              "      <th>ratings_4</th>\n",
              "      <th>ratings_5</th>\n",
              "      <th>image_url</th>\n",
              "      <th>small_image_url</th>\n",
              "    </tr>\n",
              "  </thead>\n",
              "  <tbody>\n",
              "    <tr>\n",
              "      <th>0</th>\n",
              "      <td>1</td>\n",
              "      <td>2767052</td>\n",
              "      <td>2767052</td>\n",
              "      <td>2792775</td>\n",
              "      <td>272</td>\n",
              "      <td>439023483</td>\n",
              "      <td>9.780439e+12</td>\n",
              "      <td>Suzanne Collins</td>\n",
              "      <td>2008.0</td>\n",
              "      <td>The Hunger Games</td>\n",
              "      <td>The Hunger Games (The Hunger Games, #1)</td>\n",
              "      <td>eng</td>\n",
              "      <td>4.34</td>\n",
              "      <td>4780653</td>\n",
              "      <td>4942365</td>\n",
              "      <td>155254</td>\n",
              "      <td>66715</td>\n",
              "      <td>127936</td>\n",
              "      <td>560092</td>\n",
              "      <td>1481305</td>\n",
              "      <td>2706317</td>\n",
              "      <td>https://images.gr-assets.com/books/1447303603m...</td>\n",
              "      <td>https://images.gr-assets.com/books/1447303603s...</td>\n",
              "    </tr>\n",
              "    <tr>\n",
              "      <th>1</th>\n",
              "      <td>2</td>\n",
              "      <td>3</td>\n",
              "      <td>3</td>\n",
              "      <td>4640799</td>\n",
              "      <td>491</td>\n",
              "      <td>439554934</td>\n",
              "      <td>9.780440e+12</td>\n",
              "      <td>J.K. Rowling, Mary GrandPré</td>\n",
              "      <td>1997.0</td>\n",
              "      <td>Harry Potter and the Philosopher's Stone</td>\n",
              "      <td>Harry Potter and the Sorcerer's Stone (Harry P...</td>\n",
              "      <td>eng</td>\n",
              "      <td>4.44</td>\n",
              "      <td>4602479</td>\n",
              "      <td>4800065</td>\n",
              "      <td>75867</td>\n",
              "      <td>75504</td>\n",
              "      <td>101676</td>\n",
              "      <td>455024</td>\n",
              "      <td>1156318</td>\n",
              "      <td>3011543</td>\n",
              "      <td>https://images.gr-assets.com/books/1474154022m...</td>\n",
              "      <td>https://images.gr-assets.com/books/1474154022s...</td>\n",
              "    </tr>\n",
              "    <tr>\n",
              "      <th>2</th>\n",
              "      <td>3</td>\n",
              "      <td>41865</td>\n",
              "      <td>41865</td>\n",
              "      <td>3212258</td>\n",
              "      <td>226</td>\n",
              "      <td>316015849</td>\n",
              "      <td>9.780316e+12</td>\n",
              "      <td>Stephenie Meyer</td>\n",
              "      <td>2005.0</td>\n",
              "      <td>Twilight</td>\n",
              "      <td>Twilight (Twilight, #1)</td>\n",
              "      <td>en-US</td>\n",
              "      <td>3.57</td>\n",
              "      <td>3866839</td>\n",
              "      <td>3916824</td>\n",
              "      <td>95009</td>\n",
              "      <td>456191</td>\n",
              "      <td>436802</td>\n",
              "      <td>793319</td>\n",
              "      <td>875073</td>\n",
              "      <td>1355439</td>\n",
              "      <td>https://images.gr-assets.com/books/1361039443m...</td>\n",
              "      <td>https://images.gr-assets.com/books/1361039443s...</td>\n",
              "    </tr>\n",
              "    <tr>\n",
              "      <th>3</th>\n",
              "      <td>4</td>\n",
              "      <td>2657</td>\n",
              "      <td>2657</td>\n",
              "      <td>3275794</td>\n",
              "      <td>487</td>\n",
              "      <td>61120081</td>\n",
              "      <td>9.780061e+12</td>\n",
              "      <td>Harper Lee</td>\n",
              "      <td>1960.0</td>\n",
              "      <td>To Kill a Mockingbird</td>\n",
              "      <td>To Kill a Mockingbird</td>\n",
              "      <td>eng</td>\n",
              "      <td>4.25</td>\n",
              "      <td>3198671</td>\n",
              "      <td>3340896</td>\n",
              "      <td>72586</td>\n",
              "      <td>60427</td>\n",
              "      <td>117415</td>\n",
              "      <td>446835</td>\n",
              "      <td>1001952</td>\n",
              "      <td>1714267</td>\n",
              "      <td>https://images.gr-assets.com/books/1361975680m...</td>\n",
              "      <td>https://images.gr-assets.com/books/1361975680s...</td>\n",
              "    </tr>\n",
              "    <tr>\n",
              "      <th>4</th>\n",
              "      <td>5</td>\n",
              "      <td>4671</td>\n",
              "      <td>4671</td>\n",
              "      <td>245494</td>\n",
              "      <td>1356</td>\n",
              "      <td>743273567</td>\n",
              "      <td>9.780743e+12</td>\n",
              "      <td>F. Scott Fitzgerald</td>\n",
              "      <td>1925.0</td>\n",
              "      <td>The Great Gatsby</td>\n",
              "      <td>The Great Gatsby</td>\n",
              "      <td>eng</td>\n",
              "      <td>3.89</td>\n",
              "      <td>2683664</td>\n",
              "      <td>2773745</td>\n",
              "      <td>51992</td>\n",
              "      <td>86236</td>\n",
              "      <td>197621</td>\n",
              "      <td>606158</td>\n",
              "      <td>936012</td>\n",
              "      <td>947718</td>\n",
              "      <td>https://images.gr-assets.com/books/1490528560m...</td>\n",
              "      <td>https://images.gr-assets.com/books/1490528560s...</td>\n",
              "    </tr>\n",
              "  </tbody>\n",
              "</table>\n",
              "</div>"
            ],
            "text/plain": [
              "   id  ...                                    small_image_url\n",
              "0   1  ...  https://images.gr-assets.com/books/1447303603s...\n",
              "1   2  ...  https://images.gr-assets.com/books/1474154022s...\n",
              "2   3  ...  https://images.gr-assets.com/books/1361039443s...\n",
              "3   4  ...  https://images.gr-assets.com/books/1361975680s...\n",
              "4   5  ...  https://images.gr-assets.com/books/1490528560s...\n",
              "\n",
              "[5 rows x 23 columns]"
            ]
          },
          "metadata": {
            "tags": []
          },
          "execution_count": 4
        }
      ]
    },
    {
      "cell_type": "code",
      "metadata": {
        "id": "vr7Lm4_pnuhr"
      },
      "source": [
        "books = books[['id','title','authors']]"
      ],
      "execution_count": 5,
      "outputs": []
    },
    {
      "cell_type": "code",
      "metadata": {
        "id": "-kXArEQwnuhr"
      },
      "source": [
        "books.rename(columns = {'id':'book_id'}, inplace = True) "
      ],
      "execution_count": 6,
      "outputs": []
    },
    {
      "cell_type": "code",
      "metadata": {
        "colab": {
          "base_uri": "https://localhost:8080/",
          "height": 194
        },
        "id": "k_D0xN37nuhr",
        "outputId": "0fbf11b7-02b9-453d-db57-0453567cead9"
      },
      "source": [
        "books.head()"
      ],
      "execution_count": 7,
      "outputs": [
        {
          "output_type": "execute_result",
          "data": {
            "text/html": [
              "<div>\n",
              "<style scoped>\n",
              "    .dataframe tbody tr th:only-of-type {\n",
              "        vertical-align: middle;\n",
              "    }\n",
              "\n",
              "    .dataframe tbody tr th {\n",
              "        vertical-align: top;\n",
              "    }\n",
              "\n",
              "    .dataframe thead th {\n",
              "        text-align: right;\n",
              "    }\n",
              "</style>\n",
              "<table border=\"1\" class=\"dataframe\">\n",
              "  <thead>\n",
              "    <tr style=\"text-align: right;\">\n",
              "      <th></th>\n",
              "      <th>book_id</th>\n",
              "      <th>title</th>\n",
              "      <th>authors</th>\n",
              "    </tr>\n",
              "  </thead>\n",
              "  <tbody>\n",
              "    <tr>\n",
              "      <th>0</th>\n",
              "      <td>1</td>\n",
              "      <td>The Hunger Games (The Hunger Games, #1)</td>\n",
              "      <td>Suzanne Collins</td>\n",
              "    </tr>\n",
              "    <tr>\n",
              "      <th>1</th>\n",
              "      <td>2</td>\n",
              "      <td>Harry Potter and the Sorcerer's Stone (Harry P...</td>\n",
              "      <td>J.K. Rowling, Mary GrandPré</td>\n",
              "    </tr>\n",
              "    <tr>\n",
              "      <th>2</th>\n",
              "      <td>3</td>\n",
              "      <td>Twilight (Twilight, #1)</td>\n",
              "      <td>Stephenie Meyer</td>\n",
              "    </tr>\n",
              "    <tr>\n",
              "      <th>3</th>\n",
              "      <td>4</td>\n",
              "      <td>To Kill a Mockingbird</td>\n",
              "      <td>Harper Lee</td>\n",
              "    </tr>\n",
              "    <tr>\n",
              "      <th>4</th>\n",
              "      <td>5</td>\n",
              "      <td>The Great Gatsby</td>\n",
              "      <td>F. Scott Fitzgerald</td>\n",
              "    </tr>\n",
              "  </tbody>\n",
              "</table>\n",
              "</div>"
            ],
            "text/plain": [
              "   book_id  ...                      authors\n",
              "0        1  ...              Suzanne Collins\n",
              "1        2  ...  J.K. Rowling, Mary GrandPré\n",
              "2        3  ...              Stephenie Meyer\n",
              "3        4  ...                   Harper Lee\n",
              "4        5  ...          F. Scott Fitzgerald\n",
              "\n",
              "[5 rows x 3 columns]"
            ]
          },
          "metadata": {
            "tags": []
          },
          "execution_count": 7
        }
      ]
    },
    {
      "cell_type": "code",
      "metadata": {
        "id": "KAF4DnF6nuhs"
      },
      "source": [
        "#Removing the subtitle-title inside brackets from the 'title' column\n",
        "books['title'] = books.title.str.replace(r\"\\(.*\\)\",'')"
      ],
      "execution_count": 8,
      "outputs": []
    },
    {
      "cell_type": "code",
      "metadata": {
        "id": "a6TxKjcHnuhs"
      },
      "source": [
        "#Remove white space at the end of string\n",
        "books.title = books.title.str.rstrip()"
      ],
      "execution_count": 9,
      "outputs": []
    },
    {
      "cell_type": "code",
      "metadata": {
        "colab": {
          "base_uri": "https://localhost:8080/",
          "height": 194
        },
        "id": "CVmiGY_dnuhs",
        "outputId": "ed7a5aeb-986b-467e-e58d-b34cf3402299"
      },
      "source": [
        "books.head()"
      ],
      "execution_count": 10,
      "outputs": [
        {
          "output_type": "execute_result",
          "data": {
            "text/html": [
              "<div>\n",
              "<style scoped>\n",
              "    .dataframe tbody tr th:only-of-type {\n",
              "        vertical-align: middle;\n",
              "    }\n",
              "\n",
              "    .dataframe tbody tr th {\n",
              "        vertical-align: top;\n",
              "    }\n",
              "\n",
              "    .dataframe thead th {\n",
              "        text-align: right;\n",
              "    }\n",
              "</style>\n",
              "<table border=\"1\" class=\"dataframe\">\n",
              "  <thead>\n",
              "    <tr style=\"text-align: right;\">\n",
              "      <th></th>\n",
              "      <th>book_id</th>\n",
              "      <th>title</th>\n",
              "      <th>authors</th>\n",
              "    </tr>\n",
              "  </thead>\n",
              "  <tbody>\n",
              "    <tr>\n",
              "      <th>0</th>\n",
              "      <td>1</td>\n",
              "      <td>The Hunger Games</td>\n",
              "      <td>Suzanne Collins</td>\n",
              "    </tr>\n",
              "    <tr>\n",
              "      <th>1</th>\n",
              "      <td>2</td>\n",
              "      <td>Harry Potter and the Sorcerer's Stone</td>\n",
              "      <td>J.K. Rowling, Mary GrandPré</td>\n",
              "    </tr>\n",
              "    <tr>\n",
              "      <th>2</th>\n",
              "      <td>3</td>\n",
              "      <td>Twilight</td>\n",
              "      <td>Stephenie Meyer</td>\n",
              "    </tr>\n",
              "    <tr>\n",
              "      <th>3</th>\n",
              "      <td>4</td>\n",
              "      <td>To Kill a Mockingbird</td>\n",
              "      <td>Harper Lee</td>\n",
              "    </tr>\n",
              "    <tr>\n",
              "      <th>4</th>\n",
              "      <td>5</td>\n",
              "      <td>The Great Gatsby</td>\n",
              "      <td>F. Scott Fitzgerald</td>\n",
              "    </tr>\n",
              "  </tbody>\n",
              "</table>\n",
              "</div>"
            ],
            "text/plain": [
              "   book_id                                  title                      authors\n",
              "0        1                       The Hunger Games              Suzanne Collins\n",
              "1        2  Harry Potter and the Sorcerer's Stone  J.K. Rowling, Mary GrandPré\n",
              "2        3                               Twilight              Stephenie Meyer\n",
              "3        4                  To Kill a Mockingbird                   Harper Lee\n",
              "4        5                       The Great Gatsby          F. Scott Fitzgerald"
            ]
          },
          "metadata": {
            "tags": []
          },
          "execution_count": 10
        }
      ]
    },
    {
      "cell_type": "markdown",
      "metadata": {
        "id": "XZkw0XpVnuht"
      },
      "source": [
        "### Preprocessing ratings dataframe"
      ]
    },
    {
      "cell_type": "code",
      "metadata": {
        "colab": {
          "base_uri": "https://localhost:8080/",
          "height": 194
        },
        "id": "12qrzpq4nuht",
        "outputId": "02bda31e-9beb-4eee-81a5-e0a1bf4129d3"
      },
      "source": [
        "ratings.head()"
      ],
      "execution_count": 11,
      "outputs": [
        {
          "output_type": "execute_result",
          "data": {
            "text/html": [
              "<div>\n",
              "<style scoped>\n",
              "    .dataframe tbody tr th:only-of-type {\n",
              "        vertical-align: middle;\n",
              "    }\n",
              "\n",
              "    .dataframe tbody tr th {\n",
              "        vertical-align: top;\n",
              "    }\n",
              "\n",
              "    .dataframe thead th {\n",
              "        text-align: right;\n",
              "    }\n",
              "</style>\n",
              "<table border=\"1\" class=\"dataframe\">\n",
              "  <thead>\n",
              "    <tr style=\"text-align: right;\">\n",
              "      <th></th>\n",
              "      <th>book_id</th>\n",
              "      <th>user_id</th>\n",
              "      <th>rating</th>\n",
              "    </tr>\n",
              "  </thead>\n",
              "  <tbody>\n",
              "    <tr>\n",
              "      <th>0</th>\n",
              "      <td>1</td>\n",
              "      <td>314</td>\n",
              "      <td>5</td>\n",
              "    </tr>\n",
              "    <tr>\n",
              "      <th>1</th>\n",
              "      <td>1</td>\n",
              "      <td>439</td>\n",
              "      <td>3</td>\n",
              "    </tr>\n",
              "    <tr>\n",
              "      <th>2</th>\n",
              "      <td>1</td>\n",
              "      <td>588</td>\n",
              "      <td>5</td>\n",
              "    </tr>\n",
              "    <tr>\n",
              "      <th>3</th>\n",
              "      <td>1</td>\n",
              "      <td>1169</td>\n",
              "      <td>4</td>\n",
              "    </tr>\n",
              "    <tr>\n",
              "      <th>4</th>\n",
              "      <td>1</td>\n",
              "      <td>1185</td>\n",
              "      <td>4</td>\n",
              "    </tr>\n",
              "  </tbody>\n",
              "</table>\n",
              "</div>"
            ],
            "text/plain": [
              "   book_id  user_id  rating\n",
              "0        1      314       5\n",
              "1        1      439       3\n",
              "2        1      588       5\n",
              "3        1     1169       4\n",
              "4        1     1185       4"
            ]
          },
          "metadata": {
            "tags": []
          },
          "execution_count": 11
        }
      ]
    },
    {
      "cell_type": "code",
      "metadata": {
        "colab": {
          "base_uri": "https://localhost:8080/"
        },
        "id": "3PzXiIw7nuht",
        "outputId": "86231648-64f2-47e6-a179-c98bb2e6441d"
      },
      "source": [
        "ratings.shape"
      ],
      "execution_count": 12,
      "outputs": [
        {
          "output_type": "execute_result",
          "data": {
            "text/plain": [
              "(981756, 3)"
            ]
          },
          "metadata": {
            "tags": []
          },
          "execution_count": 12
        }
      ]
    },
    {
      "cell_type": "code",
      "metadata": {
        "id": "9bzwa_elnuhu"
      },
      "source": [
        "#Removing duplicate records\n",
        "ratings = ratings.drop_duplicates(subset=['book_id', 'user_id'], keep='last')"
      ],
      "execution_count": 13,
      "outputs": []
    },
    {
      "cell_type": "code",
      "metadata": {
        "colab": {
          "base_uri": "https://localhost:8080/"
        },
        "id": "SH7Vm84Hnuhu",
        "outputId": "718714e4-099e-407c-c3f0-b8aeec1f8850"
      },
      "source": [
        "ratings.shape"
      ],
      "execution_count": 14,
      "outputs": [
        {
          "output_type": "execute_result",
          "data": {
            "text/plain": [
              "(979478, 3)"
            ]
          },
          "metadata": {
            "tags": []
          },
          "execution_count": 14
        }
      ]
    },
    {
      "cell_type": "code",
      "metadata": {
        "colab": {
          "base_uri": "https://localhost:8080/"
        },
        "id": "luqW1y1Wnuhu",
        "outputId": "48fdf437-fd9c-474a-92c0-af911598ad71"
      },
      "source": [
        "#Getting unique users count\n",
        "number_of_users = ratings['user_id'].unique()\n",
        "len(number_of_users)"
      ],
      "execution_count": 15,
      "outputs": [
        {
          "output_type": "execute_result",
          "data": {
            "text/plain": [
              "53424"
            ]
          },
          "metadata": {
            "tags": []
          },
          "execution_count": 15
        }
      ]
    },
    {
      "cell_type": "code",
      "metadata": {
        "colab": {
          "base_uri": "https://localhost:8080/"
        },
        "id": "pLuJPpmdJxeY",
        "outputId": "08d23d71-b8d7-40c6-ffec-b9e750ea57e8"
      },
      "source": [
        "count = ratings['user_id'].value_counts()\r\n",
        "ratings = ratings[ratings['user_id'].isin(count[count >= 20].index)]\r\n",
        "ratings.shape"
      ],
      "execution_count": 16,
      "outputs": [
        {
          "output_type": "execute_result",
          "data": {
            "text/plain": [
              "(720212, 3)"
            ]
          },
          "metadata": {
            "tags": []
          },
          "execution_count": 16
        }
      ]
    },
    {
      "cell_type": "code",
      "metadata": {
        "colab": {
          "base_uri": "https://localhost:8080/"
        },
        "id": "2VFESVTieuX8",
        "outputId": "bd6288f9-2645-42b4-bb4d-b7cf0d3bf706"
      },
      "source": [
        "#Getting unique users count\r\n",
        "number_of_users = ratings['user_id'].unique()\r\n",
        "len(number_of_users)"
      ],
      "execution_count": 17,
      "outputs": [
        {
          "output_type": "execute_result",
          "data": {
            "text/plain": [
              "14612"
            ]
          },
          "metadata": {
            "tags": []
          },
          "execution_count": 17
        }
      ]
    },
    {
      "cell_type": "code",
      "metadata": {
        "colab": {
          "base_uri": "https://localhost:8080/"
        },
        "id": "b3Ojzg-cnuhu",
        "outputId": "b8275ceb-fa85-4d96-d58f-1309118c9d5e"
      },
      "source": [
        "#Getting unique books count\n",
        "number_of_books = ratings['book_id'].unique()\n",
        "len(number_of_books)"
      ],
      "execution_count": 18,
      "outputs": [
        {
          "output_type": "execute_result",
          "data": {
            "text/plain": [
              "9999"
            ]
          },
          "metadata": {
            "tags": []
          },
          "execution_count": 18
        }
      ]
    },
    {
      "cell_type": "markdown",
      "metadata": {
        "id": "ZMCJ--XSnuhv"
      },
      "source": [
        "### Let's start to recommend new books to particular user:"
      ]
    },
    {
      "cell_type": "code",
      "metadata": {
        "id": "qr2xjRsunuhv"
      },
      "source": [
        "#Add user_id to the inserted user info\n",
        "def get_books_info(user_id):\n",
        "    \n",
        "    books_info = pd.DataFrame()\n",
        "    \n",
        "    #Get past ratings history of inputed user\n",
        "    books_info = ratings[ratings['user_id'] == user_id]\n",
        "    \n",
        "    #Merging to get the book Id.\n",
        "    books_info = pd.merge(books_info, books, on='book_id', how='inner')\n",
        "    books_info = books_info[['book_id', 'title', 'rating']].sort_values(by='book_id')\n",
        "\n",
        "    return books_info"
      ],
      "execution_count": 19,
      "outputs": []
    },
    {
      "cell_type": "code",
      "metadata": {
        "id": "0kRMSOE9nuhv"
      },
      "source": [
        "#let's select the subgroup of users. \n",
        "user_subset = pd.DataFrame()\n",
        "\n",
        "def get_top_users(books_info):\n",
        "    #Obtaining a list of users who have read the same books\n",
        "    user_subset = ratings[ratings['book_id'].isin(books_info['book_id'].tolist())]\n",
        "    \n",
        "    #Group up the rows by user id\n",
        "    user_subset = user_subset.groupby(['user_id'])\n",
        "    \n",
        "    #Let's sort these groups too, so users who read common books with input have a higher priority\n",
        "    user_subset = sorted(user_subset,  key=lambda x: len(x[1]), reverse=True)\n",
        "    \n",
        "    #This limit(0-100) is set because we do not want to waste too much time on every user\n",
        "    top_users = user_subset[1:101]\n",
        "    \n",
        "    return top_users"
      ],
      "execution_count": 20,
      "outputs": []
    },
    {
      "cell_type": "code",
      "metadata": {
        "id": "Qd-nvpymnuhv"
      },
      "source": [
        "from scipy.stats import pearsonr\n",
        "\n",
        "pearson_correlation = {}\n",
        "\n",
        "def get_pearson_correlation(top_users, books_info):\n",
        "    for user_id, group in top_users:\n",
        "        #Let's start by sorting the input and current user group\n",
        "        group = group.sort_values(by='book_id')\n",
        "        books_info = books_info.sort_values(by='book_id')\n",
        "        \n",
        "        nratings = len(group)\n",
        "\n",
        "        #Get the review scores for the movies that they both have in common\n",
        "        temp = books_info[books_info['book_id'].isin(group['book_id'].tolist())]\n",
        "        \n",
        "        if nratings<2:\n",
        "            continue\n",
        "\n",
        "        #Store them in a temporary variable\n",
        "        new_user_ratings = temp['rating'].tolist()\n",
        "        #Store the current user group ratings\n",
        "        user_ratings = group['rating'].tolist()\n",
        "\n",
        "        corr = pearsonr(new_user_ratings, user_ratings)\n",
        "        pearson_correlation[user_id] = corr[0]\n",
        "            \n",
        "    return pearson_correlation"
      ],
      "execution_count": 21,
      "outputs": []
    },
    {
      "cell_type": "code",
      "metadata": {
        "id": "nEtq1Lkhnuhw"
      },
      "source": [
        "#Let's get weighted rating for recommendation dataframe\n",
        "def get_recommendation_df(pearson_correlation):\n",
        "    #Converting the pearson_correlation output to a dataframe\n",
        "    pearson_df = pd.DataFrame(columns=['user_id', 'similarity_value'], data=pearson_correlation.items())\n",
        "    \n",
        "    #Getting the top 50 users based on similarity value\n",
        "    top_users = pearson_df.sort_values(by='similarity_value', ascending=False)[0:50]\n",
        "    \n",
        "    #Getting the book and rating of top users\n",
        "    top_users_rating = top_users.merge(ratings, left_on='user_id', right_on='user_id', how='inner')\n",
        "    \n",
        "    #Multiplies the similarity by the user's ratings to get weighted rating\n",
        "    top_users_rating['weighted_rating'] = top_users_rating['similarity_value']*top_users_rating['rating']\n",
        "    \n",
        "    #Getting the sum of similarity value and weighted rating by book id\n",
        "    top_users_rating = top_users_rating.groupby('book_id').sum()[['similarity_value','weighted_rating']]\n",
        "    top_users_rating.columns = ['sum_similarity_value','sum_weighted_rating']\n",
        "    \n",
        "    recommendation_df = pd.DataFrame()\n",
        "    #Now we take the weighted average by book id\n",
        "    recommendation_df['weighted_average_score'] = top_users_rating['sum_weighted_rating']/top_users_rating['sum_similarity_value']\n",
        "    recommendation_df['book_id'] = top_users_rating.index\n",
        "    \n",
        "    #Ordering the book by weighted average score\n",
        "    recommendation_df = recommendation_df[recommendation_df['weighted_average_score'] >= 2.5]\n",
        "    recommendation = recommendation_df.sort_values(by='weighted_average_score', ascending=False).reset_index(drop=True)\n",
        "    \n",
        "    return recommendation"
      ],
      "execution_count": 22,
      "outputs": []
    },
    {
      "cell_type": "code",
      "metadata": {
        "id": "R9VaQJPunuhw"
      },
      "source": [
        "def get_recommend_books(user_id):\n",
        "    \n",
        "    books_info = get_books_info(user_id)\n",
        "    top_users = get_top_users(books_info)\n",
        "    pearson_correlation = get_pearson_correlation(top_users, books_info)\n",
        "\n",
        "    recommendation = get_recommendation_df(pearson_correlation)\n",
        "\n",
        "    #Finally recommended books for the inputted user\n",
        "    recommend_books = books.loc[books['book_id'].isin(recommendation['book_id'].tolist())]\n",
        "    recommend_books = pd.merge(recommend_books, recommendation, on='book_id', how='inner')\n",
        "    recommend_books = recommend_books.sort_values(by='weighted_average_score', ascending=False).reset_index(drop=True)\n",
        "    \n",
        "    #print(\"\\n Recommended Books(\",num,\"):\")\n",
        "    #print(\"\\n Recommended Books:\")\n",
        "    return recommend_books"
      ],
      "execution_count": 23,
      "outputs": []
    },
    {
      "cell_type": "markdown",
      "metadata": {
        "id": "8ULMbx6jnuhw"
      },
      "source": [
        "### Evaluate Accuracy"
      ]
    },
    {
      "cell_type": "code",
      "metadata": {
        "id": "Mr-pGu8unuhx"
      },
      "source": [
        "#Evaluate the recommended books of the particular user\n",
        "def rec_accuracy(user_id):\n",
        "    to_read_df = pd.DataFrame()\n",
        "    #Get list of really recommended books from dataframe\n",
        "    to_read_df = to_read[to_read['user_id'] == user_id]\n",
        "    #Get length of really recommended books from dataframe\n",
        "    to_read_len = len(to_read_df)\n",
        "    \n",
        "    #Get accuracy\n",
        "    if to_read_len == 0:\n",
        "        rec_book_len = 0\n",
        "    else:\n",
        "        #Get recommended books using pearson correlation\n",
        "        rec_books = get_recommend_books(user_id)\n",
        "        #Compare both lists of recommended books and get the number of matching books\n",
        "        rec_book_len = len(rec_books.loc[rec_books['book_id'].isin(to_read_df['book_id'].tolist())].reset_index(drop=True))\n",
        "        if rec_book_len == 0:\n",
        "            to_read_len = 0\n",
        "    \n",
        "    #Calculat accuracy\n",
        "    accuracy = 0\n",
        "    if to_read_len == 0:\n",
        "        accuracy = 0\n",
        "    else:\n",
        "        accuracy = rec_book_len/to_read_len\n",
        "    \n",
        "    return accuracy"
      ],
      "execution_count": 24,
      "outputs": []
    },
    {
      "cell_type": "code",
      "metadata": {
        "colab": {
          "base_uri": "https://localhost:8080/",
          "height": 194
        },
        "id": "aiiWhPE3nuhx",
        "outputId": "ac9bbaa7-345b-4e0c-f8ff-8ca67da3e027"
      },
      "source": [
        "#Get recommended books for the particular user\n",
        "rec_books = get_recommend_books(314)\n",
        "rec_books.head()"
      ],
      "execution_count": 25,
      "outputs": [
        {
          "output_type": "execute_result",
          "data": {
            "text/html": [
              "<div>\n",
              "<style scoped>\n",
              "    .dataframe tbody tr th:only-of-type {\n",
              "        vertical-align: middle;\n",
              "    }\n",
              "\n",
              "    .dataframe tbody tr th {\n",
              "        vertical-align: top;\n",
              "    }\n",
              "\n",
              "    .dataframe thead th {\n",
              "        text-align: right;\n",
              "    }\n",
              "</style>\n",
              "<table border=\"1\" class=\"dataframe\">\n",
              "  <thead>\n",
              "    <tr style=\"text-align: right;\">\n",
              "      <th></th>\n",
              "      <th>book_id</th>\n",
              "      <th>title</th>\n",
              "      <th>authors</th>\n",
              "      <th>weighted_average_score</th>\n",
              "    </tr>\n",
              "  </thead>\n",
              "  <tbody>\n",
              "    <tr>\n",
              "      <th>0</th>\n",
              "      <td>439</td>\n",
              "      <td>A Brief History of Time</td>\n",
              "      <td>Stephen Hawking, Cao Chi, Phạm Văn Thiều</td>\n",
              "      <td>5.0</td>\n",
              "    </tr>\n",
              "    <tr>\n",
              "      <th>1</th>\n",
              "      <td>2225</td>\n",
              "      <td>John Dies at the End</td>\n",
              "      <td>David Wong</td>\n",
              "      <td>5.0</td>\n",
              "    </tr>\n",
              "    <tr>\n",
              "      <th>2</th>\n",
              "      <td>1957</td>\n",
              "      <td>I Capture the Castle</td>\n",
              "      <td>Dodie Smith</td>\n",
              "      <td>5.0</td>\n",
              "    </tr>\n",
              "    <tr>\n",
              "      <th>3</th>\n",
              "      <td>2513</td>\n",
              "      <td>Black House</td>\n",
              "      <td>Stephen King, Peter Straub</td>\n",
              "      <td>5.0</td>\n",
              "    </tr>\n",
              "    <tr>\n",
              "      <th>4</th>\n",
              "      <td>4038</td>\n",
              "      <td>Marked / Betrayed / Chosen / Untamed</td>\n",
              "      <td>P.C. Cast, Kristin Cast</td>\n",
              "      <td>5.0</td>\n",
              "    </tr>\n",
              "  </tbody>\n",
              "</table>\n",
              "</div>"
            ],
            "text/plain": [
              "   book_id  ... weighted_average_score\n",
              "0      439  ...                    5.0\n",
              "1     2225  ...                    5.0\n",
              "2     1957  ...                    5.0\n",
              "3     2513  ...                    5.0\n",
              "4     4038  ...                    5.0\n",
              "\n",
              "[5 rows x 4 columns]"
            ]
          },
          "metadata": {
            "tags": []
          },
          "execution_count": 25
        }
      ]
    },
    {
      "cell_type": "code",
      "metadata": {
        "colab": {
          "base_uri": "https://localhost:8080/"
        },
        "id": "-B581Y6Wnuhy",
        "outputId": "2f5755b3-81ee-437d-c6aa-f2d91973429b"
      },
      "source": [
        "#Get accuracy of recommended books for the particular user\n",
        "rec_accuracy(314)"
      ],
      "execution_count": 26,
      "outputs": [
        {
          "output_type": "execute_result",
          "data": {
            "text/plain": [
              "0.75"
            ]
          },
          "metadata": {
            "tags": []
          },
          "execution_count": 26
        }
      ]
    },
    {
      "cell_type": "code",
      "metadata": {
        "id": "wn7qrEK5nuhy"
      },
      "source": [
        "%matplotlib inline\n",
        "import matplotlib.pyplot as plt\n",
        "\n",
        "x1 = []\n",
        "y1 = []\n",
        "y2 = []\n",
        "#Evaluate the recommended books with list of user\n",
        "def total_accuracy(number_of_users):\n",
        "    total_read_len = 0\n",
        "    total_book_len = 0\n",
        "    #Passing range of user inside loop\n",
        "    for i in range(number_of_users):\n",
        "        to_read_df = pd.DataFrame()\n",
        "        #Get list of really recommended books from dataframe\n",
        "        to_read_df = to_read[to_read['user_id'] == (i+1)]\n",
        "        #Get length of really recommended books from dataframe\n",
        "        to_read_len = len(to_read_df)\n",
        "\n",
        "        if to_read_len == 0:\n",
        "            rec_book_len = 0\n",
        "        else:\n",
        "            #Get recommended books using pearson correlation\n",
        "            rec_books = get_recommend_books(i+1)\n",
        "            #Compare both lists of recommended books and get the number of matching books\n",
        "            rec_book_len = len(rec_books.loc[rec_books['book_id'].isin(to_read_df['book_id'].tolist())].reset_index(drop=True))\n",
        "            if rec_book_len == 0:\n",
        "                to_read_len = 0\n",
        "        \n",
        "        #Add together the number of books recommended by Pearson Correlation\n",
        "        total_book_len = total_book_len + rec_book_len\n",
        "        #Add together the number of books recommended by to_read dataframe\n",
        "        total_read_len = total_read_len + to_read_len\n",
        "\n",
        "        y1.append(to_read_len)\n",
        "        y2.append(rec_book_len)\n",
        "        x1.append(i+1)  \n",
        "    \n",
        "    #Calculate the overall accuracy\n",
        "    accuracy = total_book_len / total_read_len\n",
        "\n",
        "    print(\"\\n\")\n",
        "    print(\"\\n Total Recommended Books by DF: \",total_read_len)\n",
        "    print(\"\\n Total Recommended Books CF: \",total_book_len)\n",
        "    print(\"\\n\")\n",
        "\n",
        "    return accuracy"
      ],
      "execution_count": 27,
      "outputs": []
    },
    {
      "cell_type": "code",
      "metadata": {
        "colab": {
          "base_uri": "https://localhost:8080/"
        },
        "id": "HU0uY-nknuhy",
        "outputId": "3a96e490-f6dd-46d9-9143-0c50aa1895e0"
      },
      "source": [
        "#Get overall accuracy of list of users\n",
        "%time total_accuracy(100)"
      ],
      "execution_count": 28,
      "outputs": [
        {
          "output_type": "stream",
          "text": [
            "\n",
            "\n",
            "\n",
            " Total Recommended Books by DF:  895\n",
            "\n",
            " Total Recommended Books CF:  455\n",
            "\n",
            "\n",
            "CPU times: user 8.83 s, sys: 119 ms, total: 8.95 s\n",
            "Wall time: 8.84 s\n"
          ],
          "name": "stdout"
        },
        {
          "output_type": "execute_result",
          "data": {
            "text/plain": [
              "0.5083798882681564"
            ]
          },
          "metadata": {
            "tags": []
          },
          "execution_count": 28
        }
      ]
    },
    {
      "cell_type": "code",
      "metadata": {
        "colab": {
          "base_uri": "https://localhost:8080/",
          "height": 592
        },
        "id": "x69PrV8m0Luy",
        "outputId": "492d6ce3-f9ca-4c67-cce0-5d75ef2b6596"
      },
      "source": [
        "plt.figure(figsize=(15, 10))\r\n",
        "plt.plot(x1, y1)\r\n",
        "plt.plot(x1, y2)\r\n",
        "plt.legend([\"Total Recommended Books by DF\", \"Total Recommended Books CF\"])\r\n",
        "plt.show()"
      ],
      "execution_count": 29,
      "outputs": [
        {
          "output_type": "display_data",
          "data": {
            "image/png": "[encoded data removed]",
            "text/plain": [
              "<Figure size 1080x720 with 1 Axes>"
            ]
          },
          "metadata": {
            "tags": [],
            "needs_background": "light"
          }
        }
      ]
    }
  ]
}